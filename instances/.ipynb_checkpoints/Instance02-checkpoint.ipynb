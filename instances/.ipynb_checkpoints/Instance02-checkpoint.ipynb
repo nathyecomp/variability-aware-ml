{
 "cells": [
  {
   "cell_type": "code",
   "execution_count": 110,
   "metadata": {},
   "outputs": [
    {
     "name": "stdout",
     "output_type": "stream",
     "text": [
      "start\n"
     ]
    }
   ],
   "source": [
    "%run \"./../model-selector.ipynb\""
   ]
  },
  {
   "cell_type": "code",
   "execution_count": 111,
   "metadata": {},
   "outputs": [],
   "source": [
    "class DatasetInstance02(Dataset):   ##implementing parent abstract class by using child class\n",
    "    def setPredictionType(self):\n",
    "        #Target - Column 11 is a quantitative measure of disease progression one year after baseline\n",
    "        self.prediction_type =  'category' \n",
    "        self.known_prediction_cathegories = True\n",
    "        \n",
    "    def setDataType(self):\n",
    "        # First 10 columns are numeric predictive values\n",
    "        self.data_type = 'numeric'\n",
    "        \n",
    "    def setTargetColumn(self):\n",
    "        self.target_column = 'DEATH_EVENT'\n",
    "    \n",
    "    def setPandasDataset(self):\n",
    "        # toy datasets https://scikit-learn.org/stable/datasets/toy_dataset.html\n",
    "        # https://scikit-learn.org/stable/datasets/toy_dataset.html#diabetes-dataset\n",
    "        heart_data = pd.read_csv('dataset/heart_failure_clinical_records_dataset.csv')\n",
    "        #print(heart_data.head())\n",
    "        print(heart_data.columns)\n",
    "        self.target = heart_data[self.target_column]\n",
    "        heart_data.drop(self.target_column, inplace=True, axis=1)\n",
    "        self.dataset = heart_data\n",
    "        \n",
    "        \n",
    "        \n",
    "    def isFewFeatures(self):\n",
    "        print(\"num features is \",len(self.dataset.columns))\n",
    "        if(len(self.dataset.columns)<30):\n",
    "            return True\n",
    "        return False\n",
    "    \n",
    "    def setValidDatasetSize(self):\n",
    "        self.valid_dataset_size = 0.2\n",
    "    def setTestDatasetSize(self):\n",
    "        self.test_dataset_size = 0.000001\n"
   ]
  },
  {
   "cell_type": "code",
   "execution_count": 112,
   "metadata": {},
   "outputs": [
    {
     "name": "stdout",
     "output_type": "stream",
     "text": [
      "Index(['age', 'anaemia', 'creatinine_phosphokinase', 'diabetes',\n",
      "       'ejection_fraction', 'high_blood_pressure', 'platelets',\n",
      "       'serum_creatinine', 'serum_sodium', 'sex', 'smoking', 'time',\n",
      "       'DEATH_EVENT'],\n",
      "      dtype='object')\n",
      "train dataset size is  239\n",
      "validate dataset size is  60\n",
      "Index(['age', 'anaemia', 'creatinine_phosphokinase', 'diabetes',\n",
      "       'ejection_fraction', 'high_blood_pressure', 'platelets',\n",
      "       'serum_creatinine', 'serum_sodium', 'sex', 'smoking', 'time'],\n",
      "      dtype='object')\n"
     ]
    }
   ],
   "source": [
    "instance02=DatasetInstance02()\n",
    "instance02.configure()\n",
    "print(instance02.getDatasetFeatures())"
   ]
  },
  {
   "cell_type": "code",
   "execution_count": 113,
   "metadata": {},
   "outputs": [
    {
     "name": "stdout",
     "output_type": "stream",
     "text": [
      "0      1\n",
      "1      1\n",
      "2      1\n",
      "3      1\n",
      "4      1\n",
      "      ..\n",
      "294    0\n",
      "295    0\n",
      "296    0\n",
      "297    0\n",
      "298    0\n",
      "Name: DEATH_EVENT, Length: 299, dtype: int64\n"
     ]
    }
   ],
   "source": [
    "print(instance02.target)"
   ]
  },
  {
   "cell_type": "code",
   "execution_count": 114,
   "metadata": {},
   "outputs": [
    {
     "name": "stdout",
     "output_type": "stream",
     "text": [
      "Classification\n"
     ]
    }
   ],
   "source": [
    "selector = MethodSelector\n",
    "cathegory = selector.getMethodCathegory(instance02)\n",
    "print(cathegory.getCathegoryName())"
   ]
  },
  {
   "cell_type": "code",
   "execution_count": 115,
   "metadata": {},
   "outputs": [],
   "source": [
    "#print(cathegory.getRecommendedMethod())"
   ]
  },
  {
   "cell_type": "code",
   "execution_count": 116,
   "metadata": {},
   "outputs": [],
   "source": [
    "# while(True):\n",
    "#     print(cathegory.getRecommendedMethod())"
   ]
  },
  {
   "cell_type": "code",
   "execution_count": 117,
   "metadata": {},
   "outputs": [
    {
     "name": "stdout",
     "output_type": "stream",
     "text": [
      "LinearSVC\n",
      "balanced_accuracy  0.7773207990599296\n",
      "matthews_corrcoef  0.6098048708871\n",
      "Accuracy :  0.8166666666666667\n",
      "Sensitivity :  0.9459459459459459\n",
      "Specificity :  0.6086956521739131\n",
      "f1 score is  0.717948717948718\n",
      "score is  0.717948717948718\n"
     ]
    },
    {
     "ename": "ValueError",
     "evalue": "('Method not found', 'Classification-getMethod')",
     "output_type": "error",
     "traceback": [
      "\u001b[0;31m---------------------------------------------------------------------------\u001b[0m",
      "\u001b[0;31mValueError\u001b[0m                                Traceback (most recent call last)",
      "Input \u001b[0;32mIn [117]\u001b[0m, in \u001b[0;36m<cell line: 2>\u001b[0;34m()\u001b[0m\n\u001b[1;32m      1\u001b[0m test_score \u001b[38;5;241m=\u001b[39m \u001b[38;5;241m0\u001b[39m\n\u001b[1;32m      2\u001b[0m \u001b[38;5;28;01mwhile\u001b[39;00m (test_score \u001b[38;5;241m<\u001b[39m \u001b[38;5;241m0.77\u001b[39m):\n\u001b[0;32m----> 3\u001b[0m     name,method \u001b[38;5;241m=\u001b[39m \u001b[43mselector\u001b[49m\u001b[38;5;241;43m.\u001b[39;49m\u001b[43mgetNextMethodToExecute\u001b[49m\u001b[43m(\u001b[49m\u001b[43mcathegory\u001b[49m\u001b[43m)\u001b[49m\n\u001b[1;32m      4\u001b[0m     \u001b[38;5;28mprint\u001b[39m(name)\n\u001b[1;32m      5\u001b[0m     \u001b[38;5;28;01mtry\u001b[39;00m:\n",
      "File \u001b[0;32m/var/folders/9m/50vwrzcs519dxh9fpbkx8fjh0000gn/T/ipykernel_11868/1657599897.py:34\u001b[0m, in \u001b[0;36mMethodSelector.getNextMethodToExecute\u001b[0;34m(cathegory)\u001b[0m\n\u001b[1;32m     32\u001b[0m \u001b[38;5;28;01mdef\u001b[39;00m \u001b[38;5;21mgetNextMethodToExecute\u001b[39m(cathegory):\n\u001b[1;32m     33\u001b[0m     name \u001b[38;5;241m=\u001b[39m cathegory\u001b[38;5;241m.\u001b[39mgetRecommendedMethod()\n\u001b[0;32m---> 34\u001b[0m     method \u001b[38;5;241m=\u001b[39m \u001b[43mcathegory\u001b[49m\u001b[38;5;241;43m.\u001b[39;49m\u001b[43mgetMethodtoExecute\u001b[49m\u001b[43m(\u001b[49m\u001b[43m)\u001b[49m\n\u001b[1;32m     35\u001b[0m     \u001b[38;5;28;01mreturn\u001b[39;00m name,method\n",
      "File \u001b[0;32m/var/folders/9m/50vwrzcs519dxh9fpbkx8fjh0000gn/T/ipykernel_11868/3370919239.py:33\u001b[0m, in \u001b[0;36mClassificationSelector.getMethodtoExecute\u001b[0;34m(self)\u001b[0m\n\u001b[1;32m     31\u001b[0m \u001b[38;5;28;01mdef\u001b[39;00m \u001b[38;5;21mgetMethodtoExecute\u001b[39m(\u001b[38;5;28mself\u001b[39m):\n\u001b[1;32m     32\u001b[0m     classification \u001b[38;5;241m=\u001b[39m Classification()\n\u001b[0;32m---> 33\u001b[0m     \u001b[43mclassification\u001b[49m\u001b[38;5;241;43m.\u001b[39;49m\u001b[43mloadCurrentMethod\u001b[49m\u001b[43m(\u001b[49m\u001b[43mmethodName\u001b[49m\u001b[38;5;241;43m=\u001b[39;49m\u001b[38;5;28;43mself\u001b[39;49m\u001b[38;5;241;43m.\u001b[39;49m\u001b[43mgetCurrentMethod\u001b[49m\u001b[43m(\u001b[49m\u001b[43m)\u001b[49m\u001b[43m,\u001b[49m\u001b[43mdataset\u001b[49m\u001b[38;5;241;43m=\u001b[39;49m\u001b[38;5;28;43mself\u001b[39;49m\u001b[38;5;241;43m.\u001b[39;49m\u001b[43mdataset\u001b[49m\u001b[43m)\u001b[49m\n\u001b[1;32m     34\u001b[0m     \u001b[38;5;28;01mreturn\u001b[39;00m classification\n",
      "File \u001b[0;32m/var/folders/9m/50vwrzcs519dxh9fpbkx8fjh0000gn/T/ipykernel_11868/1264830816.py:15\u001b[0m, in \u001b[0;36mClassification.loadCurrentMethod\u001b[0;34m(self, methodName, dataset)\u001b[0m\n\u001b[1;32m      7\u001b[0m             \u001b[38;5;28;01mreturn\u001b[39;00m \u001b[38;5;28mself\u001b[39m\u001b[38;5;241m.\u001b[39mmethod \n\u001b[1;32m      8\u001b[0m \u001b[38;5;66;03m#         if(methodName== 'ElasticNet'):\u001b[39;00m\n\u001b[1;32m      9\u001b[0m \u001b[38;5;66;03m#             self.method = linear_model.ElasticNet(random_state=0)\u001b[39;00m\n\u001b[1;32m     10\u001b[0m \u001b[38;5;66;03m#             return self.method \u001b[39;00m\n\u001b[1;32m     11\u001b[0m \u001b[38;5;66;03m#         if(methodName== 'RidgeRegression'):\u001b[39;00m\n\u001b[1;32m     12\u001b[0m \u001b[38;5;66;03m#             self.method = linear_model.Ridge(alpha=.5)\u001b[39;00m\n\u001b[1;32m     13\u001b[0m \u001b[38;5;66;03m#             return self.method \u001b[39;00m\n\u001b[0;32m---> 15\u001b[0m         \u001b[38;5;28;01mraise\u001b[39;00m \u001b[38;5;167;01mValueError\u001b[39;00m(\u001b[38;5;124m'\u001b[39m\u001b[38;5;124mMethod not found\u001b[39m\u001b[38;5;124m'\u001b[39m,\u001b[38;5;124m'\u001b[39m\u001b[38;5;124mClassification-getMethod\u001b[39m\u001b[38;5;124m'\u001b[39m)\n",
      "\u001b[0;31mValueError\u001b[0m: ('Method not found', 'Classification-getMethod')"
     ]
    }
   ],
   "source": [
    "test_score = 0\n",
    "while (test_score < 0.77):\n",
    "    name,method = selector.getNextMethodToExecute(cathegory)\n",
    "    print(name)\n",
    "    try:\n",
    "        _, test_score = method.train()\n",
    "        print('score is ', test_score)\n",
    "    except ValueError as err:\n",
    "        print(err.args)\n",
    "        test_score = 8\n"
   ]
  },
  {
   "cell_type": "code",
   "execution_count": null,
   "metadata": {},
   "outputs": [],
   "source": []
  },
  {
   "cell_type": "code",
   "execution_count": null,
   "metadata": {},
   "outputs": [],
   "source": []
  },
  {
   "cell_type": "code",
   "execution_count": null,
   "metadata": {},
   "outputs": [],
   "source": []
  },
  {
   "cell_type": "code",
   "execution_count": null,
   "metadata": {},
   "outputs": [],
   "source": []
  },
  {
   "cell_type": "code",
   "execution_count": null,
   "metadata": {},
   "outputs": [],
   "source": []
  },
  {
   "cell_type": "code",
   "execution_count": null,
   "metadata": {},
   "outputs": [],
   "source": []
  }
 ],
 "metadata": {
  "kernelspec": {
   "display_name": "Python 3 (ipykernel)",
   "language": "python",
   "name": "python3"
  },
  "language_info": {
   "codemirror_mode": {
    "name": "ipython",
    "version": 3
   },
   "file_extension": ".py",
   "mimetype": "text/x-python",
   "name": "python",
   "nbconvert_exporter": "python",
   "pygments_lexer": "ipython3",
   "version": "3.9.12"
  }
 },
 "nbformat": 4,
 "nbformat_minor": 4
}
