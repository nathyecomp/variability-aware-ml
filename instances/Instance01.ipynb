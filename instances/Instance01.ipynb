{
 "cells": [
  {
   "cell_type": "code",
   "execution_count": null,
   "metadata": {},
   "outputs": [],
   "source": []
  },
  {
   "cell_type": "code",
   "execution_count": 16,
   "metadata": {},
   "outputs": [
    {
     "name": "stdout",
     "output_type": "stream",
     "text": [
      "start\n"
     ]
    }
   ],
   "source": [
    "%run \"./../model-selector.ipynb\""
   ]
  },
  {
   "cell_type": "code",
   "execution_count": 17,
   "metadata": {},
   "outputs": [],
   "source": [
    "class DatasetInstance01(Dataset):   ##implementing parent abstract class by using child class\n",
    "    def setPredictionType(self):\n",
    "        #Target - Column 11 is a quantitative measure of disease progression one year after baseline\n",
    "        self.prediction_type =  'quantity' #'category'\n",
    "        #self.known_prediction_cathegories = False\n",
    "        \n",
    "    def setDataType(self):\n",
    "        # First 10 columns are numeric predictive values\n",
    "        self.data_type = 'numeric'\n",
    "        \n",
    "    def setTargetColumn(self):\n",
    "        self.target_column = 'target'\n",
    "    \n",
    "    def setPandasDataset(self):\n",
    "        # toy datasets https://scikit-learn.org/stable/datasets/toy_dataset.html\n",
    "        # https://scikit-learn.org/stable/datasets/toy_dataset.html#diabetes-dataset\n",
    "        self.dataset, self.target = sklearn.datasets.load_diabetes(return_X_y=True, as_frame=True)\n",
    "        \n",
    "    def isFewFeatures(self):\n",
    "        print(\"num features is \",len(self.dataset.columns))\n",
    "        if(len(self.dataset.columns)<30):\n",
    "            return True\n",
    "        return False\n",
    "    \n",
    "    def setValidDatasetSize(self):\n",
    "        self.valid_dataset_size = 0.2\n",
    "    def setTestDatasetSize(self):\n",
    "        self.test_dataset_size = 0.1\n"
   ]
  },
  {
   "cell_type": "code",
   "execution_count": 18,
   "metadata": {},
   "outputs": [
    {
     "name": "stdout",
     "output_type": "stream",
     "text": [
      "train dataset size is  317\n",
      "validate dataset size is  80\n",
      "test dataset size is  45\n",
      "Index(['age', 'sex', 'bmi', 'bp', 's1', 's2', 's3', 's4', 's5', 's6'], dtype='object')\n"
     ]
    }
   ],
   "source": [
    "instance01=DatasetInstance01()\n",
    "instance01.configure()\n",
    "print(instance01.getDatasetFeatures())"
   ]
  },
  {
   "cell_type": "code",
   "execution_count": 19,
   "metadata": {},
   "outputs": [
    {
     "name": "stdout",
     "output_type": "stream",
     "text": [
      "0      151.0\n",
      "1       75.0\n",
      "2      141.0\n",
      "3      206.0\n",
      "4      135.0\n",
      "       ...  \n",
      "437    178.0\n",
      "438    104.0\n",
      "439    132.0\n",
      "440    220.0\n",
      "441     57.0\n",
      "Name: target, Length: 442, dtype: float64\n"
     ]
    }
   ],
   "source": [
    "print(instance01.target)"
   ]
  },
  {
   "cell_type": "code",
   "execution_count": 20,
   "metadata": {},
   "outputs": [
    {
     "name": "stdout",
     "output_type": "stream",
     "text": [
      "Regression\n"
     ]
    }
   ],
   "source": [
    "selector = MethodSelector\n",
    "cathegory = selector.getMethodCathegory(instance01)\n",
    "print(cathegory.getCathegoryName())"
   ]
  },
  {
   "cell_type": "code",
   "execution_count": 21,
   "metadata": {},
   "outputs": [
    {
     "name": "stdout",
     "output_type": "stream",
     "text": [
      "num features is  10\n",
      "Lasso\n"
     ]
    }
   ],
   "source": [
    "name,method = selector.getNextMethodToExecute(cathegory)\n",
    "print(method.getMethodName())"
   ]
  },
  {
   "cell_type": "code",
   "execution_count": 22,
   "metadata": {},
   "outputs": [
    {
     "name": "stdout",
     "output_type": "stream",
     "text": [
      "r2 score is  0.48735890261928516\n",
      "mean_sqrd_error is== 2486.930899627041\n",
      "root_mean_squared error of is= 49.86913774697775\n"
     ]
    }
   ],
   "source": [
    "try:\n",
    "    method.train()\n",
    "except ValueError as err:\n",
    "    print(err.args)"
   ]
  },
  {
   "cell_type": "code",
   "execution_count": 23,
   "metadata": {},
   "outputs": [
    {
     "name": "stdout",
     "output_type": "stream",
     "text": [
      "442\n",
      "442\n",
      "80\n",
      "317\n",
      "45\n",
      "80\n",
      "317\n",
      "45\n"
     ]
    }
   ],
   "source": [
    "print(len(instance01.dataset))\n",
    "print(len(instance01.target))\n",
    "print(len(instance01.x_validate))\n",
    "print(len(instance01.x_train))\n",
    "print(len(instance01.x_test))\n",
    "\n",
    "print(len(instance01.y_validate))\n",
    "print(len(instance01.y_train))\n",
    "print(len(instance01.y_test))\n",
    "\n",
    "#method = selector.getNextMethodToExecute(cathegory)\n",
    "#print(method.getMethodName())"
   ]
  },
  {
   "cell_type": "code",
   "execution_count": null,
   "metadata": {},
   "outputs": [],
   "source": []
  },
  {
   "cell_type": "code",
   "execution_count": 26,
   "metadata": {},
   "outputs": [
    {
     "name": "stdout",
     "output_type": "stream",
     "text": [
      "('Tough luck', 'RegressionSelector')\n"
     ]
    }
   ],
   "source": [
    "try:\n",
    "    name,method = selector.getNextMethodToExecute(cathegory)\n",
    "    print(name,method.getMethodName())\n",
    "except ValueError as err:\n",
    "    print(err.args)"
   ]
  },
  {
   "cell_type": "code",
   "execution_count": null,
   "metadata": {},
   "outputs": [],
   "source": []
  },
  {
   "cell_type": "code",
   "execution_count": null,
   "metadata": {},
   "outputs": [],
   "source": []
  },
  {
   "cell_type": "code",
   "execution_count": 9,
   "metadata": {},
   "outputs": [],
   "source": [
    "# from sklearn.svm import LinearSVC\n",
    "# from sklearn.feature_selection import SelectFromModel\n",
    "# from sklearn.datasets import load_iris\n",
    "\n",
    "# # sklearndata = sklearn.datasets.load_diabetes(return_X_y=True, as_frame=True)\n",
    "# # dataset = sklearndata[0]\n",
    "# # target = sklearndata[1]\n",
    "# dataset, target = sklearn.datasets.load_diabetes(return_X_y=True, as_frame=True)\n",
    "\n",
    "# dataset.shape\n",
    "# dataset.columns\n",
    "# coltoremove = ['age', 'sex']\n",
    "# #dataset = dataset.drop(coltoremove, axis=1)\n",
    "# y = dataset[coltoremove]\n",
    "# y.shape\n",
    "\n",
    "# #lsvc = LinearSVC(C=0.01, penalty=\"l1\", dual=False).fit(dataset, target)\n",
    "# #model = SelectFromModel(lsvc, prefit=True)\n",
    "# #X_new = model.transform(dataset)\n",
    "# #X_new.shape"
   ]
  },
  {
   "cell_type": "code",
   "execution_count": 10,
   "metadata": {},
   "outputs": [],
   "source": [
    "\n",
    "\n",
    "# size = len(dataset)\n",
    "# num_valid_size = round((size * 5)/100)\n",
    "# last_itens = size - num_valid_size\n",
    "        \n",
    "# x_valid = dataset[last_itens:size]\n",
    "# y_valid = target[last_itens:size]\n",
    "\n",
    "# print(len(x_valid),len(y_valid))\n",
    "# x_aux = dataset[0:last_itens]\n",
    "# y_aux = target[0:last_itens]\n",
    "# #random_state = 42\n",
    "# x_train, x_test, y_train, y_test = train_test_split(x_aux, y_aux, test_size = 0.1, shuffle=False)\n",
    "    \n",
    "\n",
    "# #reg = linear_model.Lasso(alpha=0.1)\n",
    "# reg = linear_model.LassoLars(alpha=.1, normalize=False)\n",
    "\n",
    "# reg.fit(x_train,y_train)\n",
    "# y_prediction = reg.predict(x_test)\n",
    "\n"
   ]
  },
  {
   "cell_type": "code",
   "execution_count": null,
   "metadata": {},
   "outputs": [],
   "source": []
  },
  {
   "cell_type": "code",
   "execution_count": null,
   "metadata": {},
   "outputs": [],
   "source": []
  },
  {
   "cell_type": "code",
   "execution_count": null,
   "metadata": {},
   "outputs": [],
   "source": []
  }
 ],
 "metadata": {
  "kernelspec": {
   "display_name": "Python 3 (ipykernel)",
   "language": "python",
   "name": "python3"
  },
  "language_info": {
   "codemirror_mode": {
    "name": "ipython",
    "version": 3
   },
   "file_extension": ".py",
   "mimetype": "text/x-python",
   "name": "python",
   "nbconvert_exporter": "python",
   "pygments_lexer": "ipython3",
   "version": "3.9.12"
  }
 },
 "nbformat": 4,
 "nbformat_minor": 4
}
