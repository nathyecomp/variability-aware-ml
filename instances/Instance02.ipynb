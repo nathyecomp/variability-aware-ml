{
 "cells": [
  {
   "cell_type": "code",
   "execution_count": 2,
   "metadata": {},
   "outputs": [
    {
     "name": "stdout",
     "output_type": "stream",
     "text": [
      "start\n"
     ]
    }
   ],
   "source": [
    "%run \"./../model-selector.ipynb\""
   ]
  },
  {
   "cell_type": "code",
   "execution_count": 3,
   "metadata": {},
   "outputs": [],
   "source": [
    "class DatasetInstance02(Dataset):   ##implementing parent abstract class by using child class\n",
    "    def setPredictionType(self):\n",
    "        #Target - Column 11 is a quantitative measure of disease progression one year after baseline\n",
    "        self.prediction_type =  'category' \n",
    "        self.known_prediction_cathegories = True\n",
    "        \n",
    "    def setDataType(self):\n",
    "        # First 10 columns are numeric predictive values\n",
    "        self.data_type = 'numeric'\n",
    "        \n",
    "    def setTargetColumn(self):\n",
    "        self.target_column = 'DEATH_EVENT'\n",
    "    \n",
    "    def setPandasDataset(self):\n",
    "        # toy datasets https://scikit-learn.org/stable/datasets/toy_dataset.html\n",
    "        # https://scikit-learn.org/stable/datasets/toy_dataset.html#diabetes-dataset\n",
    "        heart_data = pd.read_csv('dataset/heart_failure_clinical_records_dataset.csv')\n",
    "        #print(heart_data.head())\n",
    "        self.target = heart_data[self.target_column]\n",
    "        heart_data.drop(self.target_column, inplace=True, axis=1)\n",
    "        self.dataset = heart_data\n",
    "        #print(self.dataset.columns)\n",
    "        \n",
    "        \n",
    "    def isFewFeatures(self):\n",
    "        print(\"num features is \",len(self.dataset.columns))\n",
    "        if(len(self.dataset.columns)<30):\n",
    "            return True\n",
    "        return False\n",
    "    \n",
    "    def setValidDatasetSize(self):\n",
    "        self.valid_dataset_size = 0.2\n",
    "    def setTestDatasetSize(self):\n",
    "        self.test_dataset_size = 0.000001\n"
   ]
  },
  {
   "cell_type": "code",
   "execution_count": 4,
   "metadata": {},
   "outputs": [
    {
     "name": "stdout",
     "output_type": "stream",
     "text": [
      "train dataset size is  238\n",
      "validate dataset size is  60\n",
      "test dataset size is  1\n",
      "Index(['age', 'anaemia', 'creatinine_phosphokinase', 'diabetes',\n",
      "       'ejection_fraction', 'high_blood_pressure', 'platelets',\n",
      "       'serum_creatinine', 'serum_sodium', 'sex', 'smoking', 'time'],\n",
      "      dtype='object')\n"
     ]
    }
   ],
   "source": [
    "instance02=DatasetInstance02()\n",
    "instance02.configure()\n",
    "print(instance02.getDatasetFeatures())"
   ]
  },
  {
   "cell_type": "code",
   "execution_count": 5,
   "metadata": {},
   "outputs": [
    {
     "name": "stdout",
     "output_type": "stream",
     "text": [
      "0      1\n",
      "1      1\n",
      "2      1\n",
      "3      1\n",
      "4      1\n",
      "      ..\n",
      "294    0\n",
      "295    0\n",
      "296    0\n",
      "297    0\n",
      "298    0\n",
      "Name: DEATH_EVENT, Length: 299, dtype: int64\n"
     ]
    }
   ],
   "source": [
    "print(instance02.target)"
   ]
  },
  {
   "cell_type": "code",
   "execution_count": 19,
   "metadata": {},
   "outputs": [
    {
     "name": "stdout",
     "output_type": "stream",
     "text": [
      "Classification\n"
     ]
    }
   ],
   "source": [
    "selector = MethodSelector\n",
    "cathegory = selector.getMethodCathegory(instance02)\n",
    "print(cathegory.getCathegoryName())"
   ]
  },
  {
   "cell_type": "code",
   "execution_count": 20,
   "metadata": {},
   "outputs": [],
   "source": [
    "#print(cathegory.getRecommendedMethod())"
   ]
  },
  {
   "cell_type": "code",
   "execution_count": 21,
   "metadata": {},
   "outputs": [
    {
     "name": "stdout",
     "output_type": "stream",
     "text": [
      "LinearSVC\n"
     ]
    }
   ],
   "source": [
    "name,method = selector.getNextMethodToExecute(cathegory)\n",
    "print(name)"
   ]
  },
  {
   "cell_type": "code",
   "execution_count": 22,
   "metadata": {},
   "outputs": [
    {
     "name": "stdout",
     "output_type": "stream",
     "text": [
      "balanced_accuracy  0.8541666666666667\n",
      "matthews_corrcoef  0.7700800320836487\n",
      "Accuracy :  0.8833333333333333\n",
      "Sensitivity :  1.0\n",
      "Specificity :  0.7083333333333334\n",
      "f1 score is  0.8292682926829268\n"
     ]
    }
   ],
   "source": [
    "try:\n",
    "    method.train()\n",
    "except ValueError as err:\n",
    "    print(err.args)\n"
   ]
  },
  {
   "cell_type": "code",
   "execution_count": null,
   "metadata": {},
   "outputs": [],
   "source": []
  },
  {
   "cell_type": "code",
   "execution_count": null,
   "metadata": {},
   "outputs": [],
   "source": []
  }
 ],
 "metadata": {
  "kernelspec": {
   "display_name": "Python 3 (ipykernel)",
   "language": "python",
   "name": "python3"
  },
  "language_info": {
   "codemirror_mode": {
    "name": "ipython",
    "version": 3
   },
   "file_extension": ".py",
   "mimetype": "text/x-python",
   "name": "python",
   "nbconvert_exporter": "python",
   "pygments_lexer": "ipython3",
   "version": "3.9.12"
  }
 },
 "nbformat": 4,
 "nbformat_minor": 4
}
